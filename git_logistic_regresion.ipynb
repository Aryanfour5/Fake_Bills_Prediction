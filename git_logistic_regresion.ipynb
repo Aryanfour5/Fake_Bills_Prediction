{
  "nbformat": 4,
  "nbformat_minor": 0,
  "metadata": {
    "colab": {
      "provenance": []
    },
    "kernelspec": {
      "name": "python3",
      "display_name": "Python 3"
    },
    "language_info": {
      "name": "python"
    }
  },
  "cells": [
    {
      "cell_type": "code",
      "execution_count": null,
      "metadata": {
        "id": "628ZoLAmoTTX"
      },
      "outputs": [],
      "source": [
        "import pandas as pd\n",
        "import numpy as np\n",
        "import matplotlib.pyplot as plt"
      ]
    },
    {
      "cell_type": "code",
      "source": [
        "dataset=pd.read_csv('fake_bills.csv')"
      ],
      "metadata": {
        "id": "O-93o6mkppUj"
      },
      "execution_count": null,
      "outputs": []
    },
    {
      "cell_type": "code",
      "source": [
        "print(dataset)"
      ],
      "metadata": {
        "colab": {
          "base_uri": "https://localhost:8080/"
        },
        "id": "oTQOO80AptQe",
        "outputId": "a9e5ff74-fd7f-4505-8929-be2fa78b5036"
      },
      "execution_count": null,
      "outputs": [
        {
          "output_type": "stream",
          "name": "stdout",
          "text": [
            "     is_genuine;diagonal;height_left;height_right;margin_low;margin_up;length\n",
            "0            True;171.81;104.86;104.95;4.52;2.89;112.83                      \n",
            "1            True;171.46;103.36;103.66;3.77;2.99;113.09                      \n",
            "2              True;172.69;104.48;103.5;4.4;2.94;113.16                      \n",
            "3            True;171.36;103.91;103.94;3.62;3.01;113.51                      \n",
            "4            True;171.73;104.28;103.46;4.04;3.48;112.54                      \n",
            "...                                                 ...                      \n",
            "1495        False;171.75;104.38;104.17;4.42;3.09;111.28                      \n",
            "1496        False;172.19;104.63;104.44;5.27;3.37;110.97                      \n",
            "1497         False;171.8;104.01;104.12;5.51;3.36;111.95                      \n",
            "1498        False;172.06;104.28;104.06;5.17;3.46;112.25                      \n",
            "1499        False;171.47;104.15;103.82;4.63;3.37;112.07                      \n",
            "\n",
            "[1500 rows x 1 columns]\n"
          ]
        }
      ]
    },
    {
      "cell_type": "code",
      "source": [
        "dataset=pd.read_csv('fake_bills.csv',delimiter=';')"
      ],
      "metadata": {
        "id": "D-ro1MZXpyxD"
      },
      "execution_count": null,
      "outputs": []
    },
    {
      "cell_type": "code",
      "source": [
        "print(dataset)"
      ],
      "metadata": {
        "colab": {
          "base_uri": "https://localhost:8080/"
        },
        "id": "gJzyFFBCp3oT",
        "outputId": "55a89869-6c68-43d7-a9b2-eefcc8fb6748"
      },
      "execution_count": null,
      "outputs": [
        {
          "output_type": "stream",
          "name": "stdout",
          "text": [
            "      is_genuine  diagonal  height_left  height_right  margin_low  margin_up  \\\n",
            "0           True    171.81       104.86        104.95        4.52       2.89   \n",
            "1           True    171.46       103.36        103.66        3.77       2.99   \n",
            "2           True    172.69       104.48        103.50        4.40       2.94   \n",
            "3           True    171.36       103.91        103.94        3.62       3.01   \n",
            "4           True    171.73       104.28        103.46        4.04       3.48   \n",
            "...          ...       ...          ...           ...         ...        ...   \n",
            "1495       False    171.75       104.38        104.17        4.42       3.09   \n",
            "1496       False    172.19       104.63        104.44        5.27       3.37   \n",
            "1497       False    171.80       104.01        104.12        5.51       3.36   \n",
            "1498       False    172.06       104.28        104.06        5.17       3.46   \n",
            "1499       False    171.47       104.15        103.82        4.63       3.37   \n",
            "\n",
            "      length  \n",
            "0     112.83  \n",
            "1     113.09  \n",
            "2     113.16  \n",
            "3     113.51  \n",
            "4     112.54  \n",
            "...      ...  \n",
            "1495  111.28  \n",
            "1496  110.97  \n",
            "1497  111.95  \n",
            "1498  112.25  \n",
            "1499  112.07  \n",
            "\n",
            "[1500 rows x 7 columns]\n"
          ]
        }
      ]
    },
    {
      "cell_type": "code",
      "source": [
        "x = dataset.drop(columns='is_genuine')\n",
        "y = dataset['is_genuine']\n"
      ],
      "metadata": {
        "id": "EaPLsvNyp48L"
      },
      "execution_count": null,
      "outputs": []
    },
    {
      "cell_type": "code",
      "source": [
        "print(x)"
      ],
      "metadata": {
        "colab": {
          "base_uri": "https://localhost:8080/"
        },
        "id": "IrTsWt1Jp_mU",
        "outputId": "0c10036d-3ed0-43dd-d40d-554cbc0437fc"
      },
      "execution_count": null,
      "outputs": [
        {
          "output_type": "stream",
          "name": "stdout",
          "text": [
            "      diagonal  height_left  height_right  margin_low  margin_up  length\n",
            "0       171.81       104.86        104.95        4.52       2.89  112.83\n",
            "1       171.46       103.36        103.66        3.77       2.99  113.09\n",
            "2       172.69       104.48        103.50        4.40       2.94  113.16\n",
            "3       171.36       103.91        103.94        3.62       3.01  113.51\n",
            "4       171.73       104.28        103.46        4.04       3.48  112.54\n",
            "...        ...          ...           ...         ...        ...     ...\n",
            "1495    171.75       104.38        104.17        4.42       3.09  111.28\n",
            "1496    172.19       104.63        104.44        5.27       3.37  110.97\n",
            "1497    171.80       104.01        104.12        5.51       3.36  111.95\n",
            "1498    172.06       104.28        104.06        5.17       3.46  112.25\n",
            "1499    171.47       104.15        103.82        4.63       3.37  112.07\n",
            "\n",
            "[1500 rows x 6 columns]\n"
          ]
        }
      ]
    },
    {
      "cell_type": "code",
      "source": [
        "print(y)"
      ],
      "metadata": {
        "colab": {
          "base_uri": "https://localhost:8080/"
        },
        "id": "oIcSslG9qAsN",
        "outputId": "e8e54f30-21df-4451-be4b-eb3f0228ac93"
      },
      "execution_count": null,
      "outputs": [
        {
          "output_type": "stream",
          "name": "stdout",
          "text": [
            "0        True\n",
            "1        True\n",
            "2        True\n",
            "3        True\n",
            "4        True\n",
            "        ...  \n",
            "1495    False\n",
            "1496    False\n",
            "1497    False\n",
            "1498    False\n",
            "1499    False\n",
            "Name: is_genuine, Length: 1500, dtype: bool\n"
          ]
        }
      ]
    },
    {
      "cell_type": "code",
      "source": [
        "from sklearn.model_selection import train_test_split\n",
        "x_train,x_test,y_train,y_test=train_test_split(x,y,test_size=0.3,random_state=0)"
      ],
      "metadata": {
        "id": "Vv3ALgtCqEI8"
      },
      "execution_count": null,
      "outputs": []
    },
    {
      "cell_type": "code",
      "source": [
        "print(x_train)\n"
      ],
      "metadata": {
        "colab": {
          "base_uri": "https://localhost:8080/"
        },
        "id": "vdDupk6gqGpV",
        "outputId": "d6526938-554c-45a4-84ec-f807838e1c46"
      },
      "execution_count": null,
      "outputs": [
        {
          "output_type": "stream",
          "name": "stdout",
          "text": [
            "      diagonal  height_left  height_right  margin_low  margin_up  length\n",
            "519     172.13       103.76        103.33        4.37       3.48  113.34\n",
            "1032    172.08       104.22        104.41        4.51       3.30  111.40\n",
            "557     171.24       103.81        103.74        4.69       3.29  113.53\n",
            "642     171.85       103.90        103.74        4.13       3.07  113.15\n",
            "651     171.62       103.49        103.58        3.95       3.00  113.10\n",
            "...        ...          ...           ...         ...        ...     ...\n",
            "763     172.41       104.43        103.65        3.97       3.35  113.71\n",
            "835     172.15       104.08        104.10        4.34       2.78  113.33\n",
            "1216    171.93       104.09        104.51        4.87       3.58  111.63\n",
            "559     172.12       103.59        103.77        3.74       3.21  113.32\n",
            "684     172.13       103.76        103.85        3.65       3.24  112.92\n",
            "\n",
            "[1050 rows x 6 columns]\n"
          ]
        }
      ]
    },
    {
      "cell_type": "code",
      "source": [
        "print(y_train)"
      ],
      "metadata": {
        "colab": {
          "base_uri": "https://localhost:8080/"
        },
        "id": "zYlmOtJwqIqN",
        "outputId": "34c20b7a-3659-415b-f580-8157f32f5403"
      },
      "execution_count": null,
      "outputs": [
        {
          "output_type": "stream",
          "name": "stdout",
          "text": [
            "519      True\n",
            "1032    False\n",
            "557      True\n",
            "642      True\n",
            "651      True\n",
            "        ...  \n",
            "763      True\n",
            "835      True\n",
            "1216    False\n",
            "559      True\n",
            "684      True\n",
            "Name: is_genuine, Length: 1050, dtype: bool\n"
          ]
        }
      ]
    },
    {
      "cell_type": "code",
      "source": [
        "y_test=y_test.astype(int)\n",
        "y_train=y_train.astype(int)"
      ],
      "metadata": {
        "id": "5zR9qsSCqLOH"
      },
      "execution_count": null,
      "outputs": []
    },
    {
      "cell_type": "code",
      "source": [
        "print(y_test)"
      ],
      "metadata": {
        "colab": {
          "base_uri": "https://localhost:8080/"
        },
        "id": "1rut92zcqNQW",
        "outputId": "5e74bf3f-3009-49e9-b52f-7bc1b6d500cd"
      },
      "execution_count": null,
      "outputs": [
        {
          "output_type": "stream",
          "name": "stdout",
          "text": [
            "471     1\n",
            "9       1\n",
            "1499    0\n",
            "54      1\n",
            "1411    0\n",
            "       ..\n",
            "1331    0\n",
            "1202    0\n",
            "1323    0\n",
            "1164    0\n",
            "938     1\n",
            "Name: is_genuine, Length: 450, dtype: int64\n"
          ]
        }
      ]
    },
    {
      "cell_type": "code",
      "source": [
        "total_nan = np.isnan(x_train).sum()\n",
        "print(f\"Total NaN values: {total_nan}\")"
      ],
      "metadata": {
        "colab": {
          "base_uri": "https://localhost:8080/"
        },
        "id": "BxRZMu3kqRz2",
        "outputId": "d7eed108-3a29-45bd-afc9-0b3ba903a8ec"
      },
      "execution_count": null,
      "outputs": [
        {
          "output_type": "stream",
          "name": "stdout",
          "text": [
            "Total NaN values: diagonal         0\n",
            "height_left      0\n",
            "height_right     0\n",
            "margin_low      26\n",
            "margin_up        0\n",
            "length           0\n",
            "dtype: int64\n"
          ]
        }
      ]
    },
    {
      "cell_type": "code",
      "source": [
        "from sklearn.impute import SimpleImputer\n",
        "imputer = SimpleImputer(missing_values=np.nan, strategy='mean')\n",
        "\n",
        "\n",
        "imputer.fit(x_train)\n",
        "\n",
        "X_train_imputed = imputer.transform(x_train)\n",
        "X_test_imputed = imputer.transform(x_test)\n",
        "\n",
        "total_nan_train = np.isnan(X_train_imputed).sum()\n",
        "total_nan_test = np.isnan(X_test_imputed).sum()\n",
        "\n",
        "print(f\"Total NaN values in X_train after imputation: {total_nan_train}\")\n",
        "print(f\"Total NaN values in X_test after imputation: {total_nan_test}\")\n",
        "\n"
      ],
      "metadata": {
        "colab": {
          "base_uri": "https://localhost:8080/"
        },
        "id": "nrCvjhHMqXVw",
        "outputId": "1c88b199-6dfd-4d30-d596-8b6b85a22053"
      },
      "execution_count": null,
      "outputs": [
        {
          "output_type": "stream",
          "name": "stdout",
          "text": [
            "Total NaN values in X_train after imputation: 0\n",
            "Total NaN values in X_test after imputation: 0\n"
          ]
        }
      ]
    },
    {
      "cell_type": "code",
      "source": [
        "from sklearn.model_selection import train_test_split\n",
        "x_train,x_test,y_train,y_test=train_test_split(x,y,test_size=0.3,random_state=0)"
      ],
      "metadata": {
        "id": "kC-lmJl4qYq3"
      },
      "execution_count": null,
      "outputs": []
    },
    {
      "cell_type": "code",
      "source": [
        "from sklearn.preprocessing import StandardScaler\n",
        "sc=StandardScaler()\n",
        "x_train=sc.fit_transform(x_train)\n",
        "x_test=sc.fit_transform(x_test)"
      ],
      "metadata": {
        "id": "oHdQIhx4qeDf"
      },
      "execution_count": null,
      "outputs": []
    },
    {
      "cell_type": "code",
      "source": [
        "from sklearn.linear_model import LogisticRegression\n",
        "regresser=LogisticRegression()\n",
        "regresser.fit(X_train_imputed,y_train)"
      ],
      "metadata": {
        "colab": {
          "base_uri": "https://localhost:8080/",
          "height": 74
        },
        "id": "9qiI8F7wqlEw",
        "outputId": "3ab0d5aa-4164-47b8-b8b1-87c109e9508d"
      },
      "execution_count": null,
      "outputs": [
        {
          "output_type": "execute_result",
          "data": {
            "text/plain": [
              "LogisticRegression()"
            ],
            "text/html": [
              "<style>#sk-container-id-1 {color: black;}#sk-container-id-1 pre{padding: 0;}#sk-container-id-1 div.sk-toggleable {background-color: white;}#sk-container-id-1 label.sk-toggleable__label {cursor: pointer;display: block;width: 100%;margin-bottom: 0;padding: 0.3em;box-sizing: border-box;text-align: center;}#sk-container-id-1 label.sk-toggleable__label-arrow:before {content: \"▸\";float: left;margin-right: 0.25em;color: #696969;}#sk-container-id-1 label.sk-toggleable__label-arrow:hover:before {color: black;}#sk-container-id-1 div.sk-estimator:hover label.sk-toggleable__label-arrow:before {color: black;}#sk-container-id-1 div.sk-toggleable__content {max-height: 0;max-width: 0;overflow: hidden;text-align: left;background-color: #f0f8ff;}#sk-container-id-1 div.sk-toggleable__content pre {margin: 0.2em;color: black;border-radius: 0.25em;background-color: #f0f8ff;}#sk-container-id-1 input.sk-toggleable__control:checked~div.sk-toggleable__content {max-height: 200px;max-width: 100%;overflow: auto;}#sk-container-id-1 input.sk-toggleable__control:checked~label.sk-toggleable__label-arrow:before {content: \"▾\";}#sk-container-id-1 div.sk-estimator input.sk-toggleable__control:checked~label.sk-toggleable__label {background-color: #d4ebff;}#sk-container-id-1 div.sk-label input.sk-toggleable__control:checked~label.sk-toggleable__label {background-color: #d4ebff;}#sk-container-id-1 input.sk-hidden--visually {border: 0;clip: rect(1px 1px 1px 1px);clip: rect(1px, 1px, 1px, 1px);height: 1px;margin: -1px;overflow: hidden;padding: 0;position: absolute;width: 1px;}#sk-container-id-1 div.sk-estimator {font-family: monospace;background-color: #f0f8ff;border: 1px dotted black;border-radius: 0.25em;box-sizing: border-box;margin-bottom: 0.5em;}#sk-container-id-1 div.sk-estimator:hover {background-color: #d4ebff;}#sk-container-id-1 div.sk-parallel-item::after {content: \"\";width: 100%;border-bottom: 1px solid gray;flex-grow: 1;}#sk-container-id-1 div.sk-label:hover label.sk-toggleable__label {background-color: #d4ebff;}#sk-container-id-1 div.sk-serial::before {content: \"\";position: absolute;border-left: 1px solid gray;box-sizing: border-box;top: 0;bottom: 0;left: 50%;z-index: 0;}#sk-container-id-1 div.sk-serial {display: flex;flex-direction: column;align-items: center;background-color: white;padding-right: 0.2em;padding-left: 0.2em;position: relative;}#sk-container-id-1 div.sk-item {position: relative;z-index: 1;}#sk-container-id-1 div.sk-parallel {display: flex;align-items: stretch;justify-content: center;background-color: white;position: relative;}#sk-container-id-1 div.sk-item::before, #sk-container-id-1 div.sk-parallel-item::before {content: \"\";position: absolute;border-left: 1px solid gray;box-sizing: border-box;top: 0;bottom: 0;left: 50%;z-index: -1;}#sk-container-id-1 div.sk-parallel-item {display: flex;flex-direction: column;z-index: 1;position: relative;background-color: white;}#sk-container-id-1 div.sk-parallel-item:first-child::after {align-self: flex-end;width: 50%;}#sk-container-id-1 div.sk-parallel-item:last-child::after {align-self: flex-start;width: 50%;}#sk-container-id-1 div.sk-parallel-item:only-child::after {width: 0;}#sk-container-id-1 div.sk-dashed-wrapped {border: 1px dashed gray;margin: 0 0.4em 0.5em 0.4em;box-sizing: border-box;padding-bottom: 0.4em;background-color: white;}#sk-container-id-1 div.sk-label label {font-family: monospace;font-weight: bold;display: inline-block;line-height: 1.2em;}#sk-container-id-1 div.sk-label-container {text-align: center;}#sk-container-id-1 div.sk-container {/* jupyter's `normalize.less` sets `[hidden] { display: none; }` but bootstrap.min.css set `[hidden] { display: none !important; }` so we also need the `!important` here to be able to override the default hidden behavior on the sphinx rendered scikit-learn.org. See: https://github.com/scikit-learn/scikit-learn/issues/21755 */display: inline-block !important;position: relative;}#sk-container-id-1 div.sk-text-repr-fallback {display: none;}</style><div id=\"sk-container-id-1\" class=\"sk-top-container\"><div class=\"sk-text-repr-fallback\"><pre>LogisticRegression()</pre><b>In a Jupyter environment, please rerun this cell to show the HTML representation or trust the notebook. <br />On GitHub, the HTML representation is unable to render, please try loading this page with nbviewer.org.</b></div><div class=\"sk-container\" hidden><div class=\"sk-item\"><div class=\"sk-estimator sk-toggleable\"><input class=\"sk-toggleable__control sk-hidden--visually\" id=\"sk-estimator-id-1\" type=\"checkbox\" checked><label for=\"sk-estimator-id-1\" class=\"sk-toggleable__label sk-toggleable__label-arrow\">LogisticRegression</label><div class=\"sk-toggleable__content\"><pre>LogisticRegression()</pre></div></div></div></div></div>"
            ]
          },
          "metadata": {},
          "execution_count": 20
        }
      ]
    },
    {
      "cell_type": "code",
      "source": [
        "y_pred = regresser.predict(X_test_imputed)\n"
      ],
      "metadata": {
        "id": "kwpiMT17rJWl"
      },
      "execution_count": null,
      "outputs": []
    },
    {
      "cell_type": "code",
      "source": [
        "ans=regresser.predict([[171,104,104,4,2,112]])"
      ],
      "metadata": {
        "id": "fBzg0_ewrQMG"
      },
      "execution_count": null,
      "outputs": []
    },
    {
      "cell_type": "code",
      "source": [
        "print(ans)"
      ],
      "metadata": {
        "colab": {
          "base_uri": "https://localhost:8080/"
        },
        "id": "faPv0J3NrcrQ",
        "outputId": "f5613cb1-046f-406f-f722-31446a3f35ea"
      },
      "execution_count": null,
      "outputs": [
        {
          "output_type": "stream",
          "name": "stdout",
          "text": [
            "[ True]\n"
          ]
        }
      ]
    },
    {
      "cell_type": "code",
      "source": [
        "from sklearn.metrics import accuracy_score\n",
        "accuracy=accuracy_score(y_test,y_pred)\n",
        "print(accuracy)"
      ],
      "metadata": {
        "colab": {
          "base_uri": "https://localhost:8080/"
        },
        "id": "DTswLW8erg0o",
        "outputId": "e4424665-3deb-4a78-c9c9-d6dff73d6c8b"
      },
      "execution_count": null,
      "outputs": [
        {
          "output_type": "stream",
          "name": "stdout",
          "text": [
            "0.9955555555555555\n"
          ]
        }
      ]
    },
    {
      "cell_type": "code",
      "source": [
        "from sklearn.metrics import confusion_matrix\n",
        "import seaborn as sns\n",
        "cm = confusion_matrix(y_test, y_pred)\n",
        "\n",
        "plt.figure(figsize=(8, 6))\n",
        "sns.heatmap(cm, annot=True, fmt='d', cmap='Blues',\n",
        "            xticklabels=['Class 0', 'Class 1'],\n",
        "            yticklabels=['Class 0', 'Class 1'])\n",
        "plt.xlabel('Predicted')\n",
        "plt.ylabel('Actual')\n",
        "plt.title('Confusion Matrix')\n",
        "plt.show()"
      ],
      "metadata": {
        "colab": {
          "base_uri": "https://localhost:8080/",
          "height": 564
        },
        "id": "TY7--yi_r_jz",
        "outputId": "9e38a797-f44f-4ac8-c1e8-27e0a4f9ea42"
      },
      "execution_count": null,
      "outputs": [
        {
          "output_type": "display_data",
          "data": {
            "text/plain": [
              "<Figure size 800x600 with 2 Axes>"
            ],
            "image/png": "[encoded data removed]"
          },
          "metadata": {}
        }
      ]
    },
    {
      "cell_type": "code",
      "source": [
        "y_proba = regresser.predict_proba(X_test_imputed)\n",
        "\n",
        "plt.figure(figsize=(10, 6))\n",
        "sns.histplot(y_proba[:, 1], bins=30, kde=True)\n",
        "plt.title('Distribution of Predicted Probabilities for Class 1')\n",
        "plt.xlabel('Predicted Probability')\n",
        "plt.ylabel('Frequency')\n",
        "plt.show()\n"
      ],
      "metadata": {
        "colab": {
          "base_uri": "https://localhost:8080/",
          "height": 564
        },
        "id": "oEHtQdSQsoff",
        "outputId": "17caa2eb-dc70-4a12-904a-043e72586d03"
      },
      "execution_count": null,
      "outputs": [
        {
          "output_type": "display_data",
          "data": {
            "text/plain": [
              "<Figure size 1000x600 with 1 Axes>"
            ],
            "image/png": "[encoded data removed]"
          },
          "metadata": {}
        }
      ]
    }
  ]
}